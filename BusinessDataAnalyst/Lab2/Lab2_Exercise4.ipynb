{
 "cells": [
  {
   "cell_type": "code",
   "execution_count": 1,
   "id": "21c0062c",
   "metadata": {},
   "outputs": [],
   "source": [
    "import pandas as pd\n",
    "import scipy.stats as stats"
   ]
  },
  {
   "cell_type": "code",
   "execution_count": 2,
   "id": "8251a470",
   "metadata": {},
   "outputs": [
    {
     "data": {
      "text/html": [
       "<div>\n",
       "<style scoped>\n",
       "    .dataframe tbody tr th:only-of-type {\n",
       "        vertical-align: middle;\n",
       "    }\n",
       "\n",
       "    .dataframe tbody tr th {\n",
       "        vertical-align: top;\n",
       "    }\n",
       "\n",
       "    .dataframe thead th {\n",
       "        text-align: right;\n",
       "    }\n",
       "</style>\n",
       "<table border=\"1\" class=\"dataframe\">\n",
       "  <thead>\n",
       "    <tr style=\"text-align: right;\">\n",
       "      <th></th>\n",
       "      <th>Diem</th>\n",
       "      <th>KhoiThi</th>\n",
       "    </tr>\n",
       "  </thead>\n",
       "  <tbody>\n",
       "    <tr>\n",
       "      <th>0</th>\n",
       "      <td>15.20</td>\n",
       "      <td>KhoiA</td>\n",
       "    </tr>\n",
       "    <tr>\n",
       "      <th>1</th>\n",
       "      <td>14.55</td>\n",
       "      <td>KhoiA</td>\n",
       "    </tr>\n",
       "    <tr>\n",
       "      <th>2</th>\n",
       "      <td>20.95</td>\n",
       "      <td>KhoiA</td>\n",
       "    </tr>\n",
       "    <tr>\n",
       "      <th>3</th>\n",
       "      <td>13.55</td>\n",
       "      <td>KhoiA</td>\n",
       "    </tr>\n",
       "    <tr>\n",
       "      <th>4</th>\n",
       "      <td>18.20</td>\n",
       "      <td>KhoiA</td>\n",
       "    </tr>\n",
       "    <tr>\n",
       "      <th>...</th>\n",
       "      <td>...</td>\n",
       "      <td>...</td>\n",
       "    </tr>\n",
       "    <tr>\n",
       "      <th>556</th>\n",
       "      <td>16.90</td>\n",
       "      <td>KhoiA</td>\n",
       "    </tr>\n",
       "    <tr>\n",
       "      <th>557</th>\n",
       "      <td>17.60</td>\n",
       "      <td>KhoiA</td>\n",
       "    </tr>\n",
       "    <tr>\n",
       "      <th>558</th>\n",
       "      <td>15.95</td>\n",
       "      <td>KhoiA</td>\n",
       "    </tr>\n",
       "    <tr>\n",
       "      <th>559</th>\n",
       "      <td>25.45</td>\n",
       "      <td>KhoiA</td>\n",
       "    </tr>\n",
       "    <tr>\n",
       "      <th>560</th>\n",
       "      <td>17.40</td>\n",
       "      <td>KhoiA</td>\n",
       "    </tr>\n",
       "  </tbody>\n",
       "</table>\n",
       "<p>561 rows × 2 columns</p>\n",
       "</div>"
      ],
      "text/plain": [
       "      Diem KhoiThi\n",
       "0    15.20   KhoiA\n",
       "1    14.55   KhoiA\n",
       "2    20.95   KhoiA\n",
       "3    13.55   KhoiA\n",
       "4    18.20   KhoiA\n",
       "..     ...     ...\n",
       "556  16.90   KhoiA\n",
       "557  17.60   KhoiA\n",
       "558  15.95   KhoiA\n",
       "559  25.45   KhoiA\n",
       "560  17.40   KhoiA\n",
       "\n",
       "[561 rows x 2 columns]"
      ]
     },
     "execution_count": 2,
     "metadata": {},
     "output_type": "execute_result"
    }
   ],
   "source": [
    "data = pd.read_csv(\"VN_exam_2018_same.csv\")\n",
    "data"
   ]
  },
  {
   "cell_type": "code",
   "execution_count": 3,
   "id": "00038239",
   "metadata": {},
   "outputs": [
    {
     "data": {
      "text/plain": [
       "KhoiThi\n",
       "KhoiA     [15.2, 14.55, 20.95, 13.55, 18.2, 18.8, 22.0, ...\n",
       "KhoiA1    [15.15, 21.05, 19.75, 13.5, 18.45, 15.55, 15.1...\n",
       "KhoiD     [15.05, 10.1, 14.4, 16.45, 13.8, 13.0, 9.6, 14...\n",
       "Name: Diem, dtype: object"
      ]
     },
     "execution_count": 3,
     "metadata": {},
     "output_type": "execute_result"
    }
   ],
   "source": [
    "# Bởi vì chúng ta vừa xử lý dữ liệu để phù hợp hàm leveneTest trong R nên bây giờ cần nhóm các điểm theo khối thi là A B C\n",
    "groups = data.groupby(\"KhoiThi\")['Diem'].apply(list)\n",
    "groups"
   ]
  },
  {
   "cell_type": "code",
   "execution_count": 4,
   "id": "ace23f63",
   "metadata": {},
   "outputs": [
    {
     "name": "stdout",
     "output_type": "stream",
     "text": [
      "P value = 1.1553592870531756e-10\n",
      "Có sự khác nhau về phương sai của 3 tổng thể, không đủ điều kiện để kiểm định ANOVA\n"
     ]
    }
   ],
   "source": [
    "f_value, p_value = stats.f_oneway(*groups)\n",
    "print(f\"P value = {p_value}\")\n",
    "if p_value > 0.05:\n",
    "    print(\"Không có sự khác nhau về phương sai của 3 tổng thể, đủ điều kiện để kiểm định ANOVA\")\n",
    "else:\n",
    "    print(\"Có sự khác nhau về phương sai của 3 tổng thể, không đủ điều kiện để kiểm định ANOVA\")"
   ]
  },
  {
   "cell_type": "code",
   "execution_count": 5,
   "id": "a264c3cc",
   "metadata": {},
   "outputs": [
    {
     "name": "stdout",
     "output_type": "stream",
     "text": [
      "5.186448254865889 0.005864541735395194\n"
     ]
    }
   ],
   "source": [
    "f, p = stats.levene(*groups)\n",
    "print(f, p)"
   ]
  },
  {
   "cell_type": "code",
   "execution_count": null,
   "id": "144226b0",
   "metadata": {},
   "outputs": [],
   "source": []
  }
 ],
 "metadata": {
  "kernelspec": {
   "display_name": "Python 3 (ipykernel)",
   "language": "python",
   "name": "python3"
  },
  "language_info": {
   "codemirror_mode": {
    "name": "ipython",
    "version": 3
   },
   "file_extension": ".py",
   "mimetype": "text/x-python",
   "name": "python",
   "nbconvert_exporter": "python",
   "pygments_lexer": "ipython3",
   "version": "3.11.5"
  }
 },
 "nbformat": 4,
 "nbformat_minor": 5
}
