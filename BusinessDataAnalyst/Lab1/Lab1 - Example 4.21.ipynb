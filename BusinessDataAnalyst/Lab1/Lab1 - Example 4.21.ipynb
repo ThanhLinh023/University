{
 "cells": [
  {
   "cell_type": "code",
   "execution_count": 1,
   "id": "b44361dc",
   "metadata": {},
   "outputs": [],
   "source": [
    "import numpy as np\n",
    "import pandas as pd\n",
    "import math\n",
    "import statistics as stat"
   ]
  },
  {
   "cell_type": "code",
   "execution_count": 3,
   "id": "29fd40c4",
   "metadata": {},
   "outputs": [],
   "source": [
    "data_use = pd.read_csv(\"C:\\\\Users\\\\lt341\\\\Downloads\\\\6. Colleges and Universities.csv\")"
   ]
  },
  {
   "cell_type": "code",
   "execution_count": 4,
   "id": "12286272",
   "metadata": {},
   "outputs": [
    {
     "name": "stdout",
     "output_type": "stream",
     "text": [
      "Mean of Median SAT:  1263.1020408163265\n",
      "Mean of Graduation:  83.24489795918367\n",
      "Standard deviation of Median SAT:  62.676499083906776\n",
      "Standard deviation of Graduation:  7.448519462072362\n"
     ]
    }
   ],
   "source": [
    "# Extract 'mediansat' and 'graduation' column to 2 variables\n",
    "med_sat = data_use['mediansat'].values\n",
    "grad = data_use['graduation'].values\n",
    "# Count number of rows in dataset\n",
    "n = len(data_use)\n",
    "# Mean of Median SAT and Graduation\n",
    "mean_medSat = sum(med_sat) / n\n",
    "mean_grad = sum(grad) / n\n",
    "print(\"Mean of Median SAT: \", mean_medSat)\n",
    "print(\"Mean of Graduation: \", mean_grad)\n",
    "# Find variance\n",
    "var_medSat = sum((x - mean_medSat) ** 2 for x in med_sat) / (n - 1)\n",
    "var_grad = sum((x - mean_grad) ** 2 for x in grad) / (n - 1)\n",
    "# Standard deviation is square root of variance\n",
    "std_medSat = math.sqrt(var_medSat)\n",
    "std_grad = math.sqrt(var_grad)\n",
    "print(\"Standard deviation of Median SAT: \", std_medSat)\n",
    "print(\"Standard deviation of Graduation: \", std_grad)"
   ]
  },
  {
   "cell_type": "code",
   "execution_count": 5,
   "id": "a45c1a79",
   "metadata": {},
   "outputs": [
    {
     "name": "stdout",
     "output_type": "stream",
     "text": [
      "263.37032312925174\n",
      "263.37032312925174\n"
     ]
    }
   ],
   "source": [
    "# Covariance of Median SAT and Graduation\n",
    "cov_ef = sum((med_sat[i] - mean_medSat) * (grad[i] - mean_grad) for i in range(n)) / (n - 1)\n",
    "print(cov_ef)\n",
    "# Use built-in function 'cov' in Numpy library, but this function return a 2x2 matrix and the covariance is at first row([0]) and\",\n",
    "# second column([1]), so we need to index [0][1] to show the result\",\n",
    "print(np.cov(med_sat, grad)[0][1])"
   ]
  },
  {
   "cell_type": "code",
   "execution_count": 6,
   "id": "7ec5982f",
   "metadata": {},
   "outputs": [
    {
     "name": "stdout",
     "output_type": "stream",
     "text": [
      "0.564146826697419\n",
      "0.5641468266974192\n"
     ]
    }
   ],
   "source": [
    "# Correlation of Median SAT and Graduation\n",
    "corr_ef = cov_ef / (std_medSat * std_grad)\n",
    "print(corr_ef)\n",
    "# Use built-in function 'corrcoef' in Numpy library, but this function return a 2x2 matrix and the correlation is at first row([0])\",\n",
    "# and second column([1]), so we need to index [0][1] to show the result\\n\",\n",
    "print(np.corrcoef(med_sat, grad)[0][1])"
   ]
  },
  {
   "cell_type": "code",
   "execution_count": null,
   "id": "9043bdc0",
   "metadata": {},
   "outputs": [],
   "source": []
  }
 ],
 "metadata": {},
 "nbformat": 4,
 "nbformat_minor": 5
}
