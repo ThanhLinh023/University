{
 "cells": [
  {
   "cell_type": "code",
   "execution_count": 2,
   "id": "7286bd81-4eda-42c9-b6cd-81336d4cecf6",
   "metadata": {},
   "outputs": [],
   "source": [
    "# Các thư viện cần thiết\n",
    "import numpy as np\n",
    "import pandas as pd\n",
    "from pmdarima.arima import auto_arima"
   ]
  },
  {
   "cell_type": "code",
   "execution_count": 3,
   "id": "b62b5baf-fec9-4305-8a1f-af49a791ffc8",
   "metadata": {},
   "outputs": [],
   "source": [
    "# Đọc file dữ liệu Gas & Electric\n",
    "df = pd.read_csv('Gas & Electric.csv')"
   ]
  },
  {
   "cell_type": "code",
   "execution_count": 4,
   "id": "bddefc6c-cbe3-4c60-8b7c-6fc86d68abc3",
   "metadata": {},
   "outputs": [
    {
     "data": {
      "text/html": [
       "<table class=\"simpletable\">\n",
       "<caption>SARIMAX Results</caption>\n",
       "<tr>\n",
       "  <th>Dep. Variable:</th>     <td>Electric Use</td>   <th>  No. Observations:  </th>    <td>24</td>   \n",
       "</tr>\n",
       "<tr>\n",
       "  <th>Model:</th>            <td>ARIMA(1, 0, 1)</td>  <th>  Log Likelihood     </th> <td>-158.937</td>\n",
       "</tr>\n",
       "<tr>\n",
       "  <th>Date:</th>            <td>Sat, 04 May 2024</td> <th>  AIC                </th>  <td>325.875</td>\n",
       "</tr>\n",
       "<tr>\n",
       "  <th>Time:</th>                <td>10:47:42</td>     <th>  BIC                </th>  <td>330.587</td>\n",
       "</tr>\n",
       "<tr>\n",
       "  <th>Sample:</th>                  <td>0</td>        <th>  HQIC               </th>  <td>327.125</td>\n",
       "</tr>\n",
       "<tr>\n",
       "  <th></th>                       <td> - 24</td>      <th>                     </th>     <td> </td>   \n",
       "</tr>\n",
       "<tr>\n",
       "  <th>Covariance Type:</th>        <td>opg</td>       <th>                     </th>     <td> </td>   \n",
       "</tr>\n",
       "</table>\n",
       "<table class=\"simpletable\">\n",
       "<tr>\n",
       "     <td></td>       <th>coef</th>     <th>std err</th>      <th>z</th>      <th>P>|z|</th>  <th>[0.025</th>    <th>0.975]</th>  \n",
       "</tr>\n",
       "<tr>\n",
       "  <th>const</th>  <td>  945.6049</td> <td>  116.763</td> <td>    8.099</td> <td> 0.000</td> <td>  716.754</td> <td> 1174.456</td>\n",
       "</tr>\n",
       "<tr>\n",
       "  <th>ar.L1</th>  <td>    0.3771</td> <td>    0.502</td> <td>    0.751</td> <td> 0.453</td> <td>   -0.607</td> <td>    1.361</td>\n",
       "</tr>\n",
       "<tr>\n",
       "  <th>ma.L1</th>  <td>    0.2471</td> <td>    0.652</td> <td>    0.379</td> <td> 0.704</td> <td>   -1.030</td> <td>    1.524</td>\n",
       "</tr>\n",
       "<tr>\n",
       "  <th>sigma2</th> <td> 3.254e+04</td> <td>  1.2e+04</td> <td>    2.718</td> <td> 0.007</td> <td> 9079.617</td> <td>  5.6e+04</td>\n",
       "</tr>\n",
       "</table>\n",
       "<table class=\"simpletable\">\n",
       "<tr>\n",
       "  <th>Ljung-Box (L1) (Q):</th>     <td>0.15</td> <th>  Jarque-Bera (JB):  </th> <td>20.03</td>\n",
       "</tr>\n",
       "<tr>\n",
       "  <th>Prob(Q):</th>                <td>0.70</td> <th>  Prob(JB):          </th> <td>0.00</td> \n",
       "</tr>\n",
       "<tr>\n",
       "  <th>Heteroskedasticity (H):</th> <td>1.52</td> <th>  Skew:              </th> <td>1.66</td> \n",
       "</tr>\n",
       "<tr>\n",
       "  <th>Prob(H) (two-sided):</th>    <td>0.57</td> <th>  Kurtosis:          </th> <td>6.01</td> \n",
       "</tr>\n",
       "</table><br/><br/>Warnings:<br/>[1] Covariance matrix calculated using the outer product of gradients (complex-step)."
      ],
      "text/latex": [
       "\\begin{center}\n",
       "\\begin{tabular}{lclc}\n",
       "\\toprule\n",
       "\\textbf{Dep. Variable:}          &   Electric Use   & \\textbf{  No. Observations:  } &     24      \\\\\n",
       "\\textbf{Model:}                  &  ARIMA(1, 0, 1)  & \\textbf{  Log Likelihood     } &  -158.937   \\\\\n",
       "\\textbf{Date:}                   & Sat, 04 May 2024 & \\textbf{  AIC                } &  325.875    \\\\\n",
       "\\textbf{Time:}                   &     10:47:42     & \\textbf{  BIC                } &  330.587    \\\\\n",
       "\\textbf{Sample:}                 &        0         & \\textbf{  HQIC               } &  327.125    \\\\\n",
       "\\textbf{}                        &       - 24       & \\textbf{                     } &             \\\\\n",
       "\\textbf{Covariance Type:}        &       opg        & \\textbf{                     } &             \\\\\n",
       "\\bottomrule\n",
       "\\end{tabular}\n",
       "\\begin{tabular}{lcccccc}\n",
       "                & \\textbf{coef} & \\textbf{std err} & \\textbf{z} & \\textbf{P$> |$z$|$} & \\textbf{[0.025} & \\textbf{0.975]}  \\\\\n",
       "\\midrule\n",
       "\\textbf{const}  &     945.6049  &      116.763     &     8.099  &         0.000        &      716.754    &     1174.456     \\\\\n",
       "\\textbf{ar.L1}  &       0.3771  &        0.502     &     0.751  &         0.453        &       -0.607    &        1.361     \\\\\n",
       "\\textbf{ma.L1}  &       0.2471  &        0.652     &     0.379  &         0.704        &       -1.030    &        1.524     \\\\\n",
       "\\textbf{sigma2} &    3.254e+04  &      1.2e+04     &     2.718  &         0.007        &     9079.617    &      5.6e+04     \\\\\n",
       "\\bottomrule\n",
       "\\end{tabular}\n",
       "\\begin{tabular}{lclc}\n",
       "\\textbf{Ljung-Box (L1) (Q):}     & 0.15 & \\textbf{  Jarque-Bera (JB):  } & 20.03  \\\\\n",
       "\\textbf{Prob(Q):}                & 0.70 & \\textbf{  Prob(JB):          } &  0.00  \\\\\n",
       "\\textbf{Heteroskedasticity (H):} & 1.52 & \\textbf{  Skew:              } &  1.66  \\\\\n",
       "\\textbf{Prob(H) (two-sided):}    & 0.57 & \\textbf{  Kurtosis:          } &  6.01  \\\\\n",
       "\\bottomrule\n",
       "\\end{tabular}\n",
       "%\\caption{SARIMAX Results}\n",
       "\\end{center}\n",
       "\n",
       "Warnings: \\newline\n",
       " [1] Covariance matrix calculated using the outer product of gradients (complex-step)."
      ],
      "text/plain": [
       "<class 'statsmodels.iolib.summary.Summary'>\n",
       "\"\"\"\n",
       "                               SARIMAX Results                                \n",
       "==============================================================================\n",
       "Dep. Variable:           Electric Use   No. Observations:                   24\n",
       "Model:                 ARIMA(1, 0, 1)   Log Likelihood                -158.937\n",
       "Date:                Sat, 04 May 2024   AIC                            325.875\n",
       "Time:                        10:47:42   BIC                            330.587\n",
       "Sample:                             0   HQIC                           327.125\n",
       "                                 - 24                                         \n",
       "Covariance Type:                  opg                                         \n",
       "==============================================================================\n",
       "                 coef    std err          z      P>|z|      [0.025      0.975]\n",
       "------------------------------------------------------------------------------\n",
       "const        945.6049    116.763      8.099      0.000     716.754    1174.456\n",
       "ar.L1          0.3771      0.502      0.751      0.453      -0.607       1.361\n",
       "ma.L1          0.2471      0.652      0.379      0.704      -1.030       1.524\n",
       "sigma2      3.254e+04    1.2e+04      2.718      0.007    9079.617     5.6e+04\n",
       "===================================================================================\n",
       "Ljung-Box (L1) (Q):                   0.15   Jarque-Bera (JB):                20.03\n",
       "Prob(Q):                              0.70   Prob(JB):                         0.00\n",
       "Heteroskedasticity (H):               1.52   Skew:                             1.66\n",
       "Prob(H) (two-sided):                  0.57   Kurtosis:                         6.01\n",
       "===================================================================================\n",
       "\n",
       "Warnings:\n",
       "[1] Covariance matrix calculated using the outer product of gradients (complex-step).\n",
       "\"\"\""
      ]
     },
     "execution_count": 4,
     "metadata": {},
     "output_type": "execute_result"
    }
   ],
   "source": [
    "from statsmodels.tsa.arima.model import ARIMA\n",
    "model = ARIMA(df[\"Electric Use\"], order = (1,0,1))\n",
    "model = model.fit()\n",
    "model.summary()"
   ]
  },
  {
   "cell_type": "code",
   "execution_count": 5,
   "id": "d37bfcb8-51ea-4a8f-97b0-cf37227745da",
   "metadata": {},
   "outputs": [],
   "source": [
    "# Quá trình predict \n",
    "x_actual = np.array(df['Electric Use']).reshape(-1, 1) #Lấy chỉ mục Index\n",
    "y_actual = np.array(df['Electric Use']) #lấy dữ liệu Electric Use\n",
    "\n",
    "y_pred = model.predict(n_periods=len(x_actual))"
   ]
  },
  {
   "cell_type": "code",
   "execution_count": 6,
   "id": "f11ee763-63d7-4144-b031-781c65fd1ea5",
   "metadata": {},
   "outputs": [
    {
     "name": "stdout",
     "output_type": "stream",
     "text": [
      "Testing MAPE: 12.31527468406155\n",
      "Testing MAE: 120.35146666299882\n",
      "Testing MSE: 32574.425672565845\n",
      "Testing RMSE: 180.4838654078692\n",
      "R-squared: 0.33128682840072665\n"
     ]
    }
   ],
   "source": [
    "# Tính MAPE - Mean Absolute Percentage Error - Tỷ lệ phần trăm sai số tuyệt đối trung bình\n",
    "test_mape = np.mean(np.abs(y_pred - y_actual)/np.abs(y_actual))*100\n",
    "print('Testing MAPE:', test_mape)\n",
    "\n",
    "# Tính MAE - Mean Absolute Error - Sai số trung bình tuyệt đối\n",
    "test_mae = np.mean(np.abs(y_pred - y_actual))\n",
    "print(\"Testing MAE:\", test_mae)\n",
    "\n",
    "# Tính MSE - Mean Squared Error - Sai số bình phương trung bình\n",
    "test_mse = np.mean((y_pred - y_actual)**2)\n",
    "print('Testing MSE:', test_mse)\n",
    "\n",
    "# Tính RMSE - Root Mean Squared Error - Sai số bình phương trung bình\n",
    "test_rmse = np.sqrt(np.mean((y_pred - y_actual)**2))\n",
    "print('Testing RMSE:', test_rmse)\n",
    "\n",
    "# Tính R-Squared - Coefficient Of Determination - Hệ số xác định\n",
    "r_squared = 1 - np.sum((y_actual - y_pred)**2) / np.sum((y_actual - np.mean(y_actual))**2)\n",
    "print(\"R-squared:\", r_squared)"
   ]
  }
 ],
 "metadata": {
  "kernelspec": {
   "display_name": "Python 3 (ipykernel)",
   "language": "python",
   "name": "python3"
  },
  "language_info": {
   "codemirror_mode": {
    "name": "ipython",
    "version": 3
   },
   "file_extension": ".py",
   "mimetype": "text/x-python",
   "name": "python",
   "nbconvert_exporter": "python",
   "pygments_lexer": "ipython3",
   "version": "3.11.7"
  }
 },
 "nbformat": 4,
 "nbformat_minor": 5
}
