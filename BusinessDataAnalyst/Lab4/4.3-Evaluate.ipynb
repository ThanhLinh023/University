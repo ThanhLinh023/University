{
 "cells": [
  {
   "cell_type": "code",
   "execution_count": 1,
   "id": "7286bd81-4eda-42c9-b6cd-81336d4cecf6",
   "metadata": {},
   "outputs": [],
   "source": [
    "# Các thư viện cần thiết\n",
    "import numpy as np\n",
    "import pandas as pd\n",
    "from pmdarima.arima import auto_arima"
   ]
  },
  {
   "cell_type": "code",
   "execution_count": 2,
   "id": "b62b5baf-fec9-4305-8a1f-af49a791ffc8",
   "metadata": {},
   "outputs": [],
   "source": [
    "# Đọc file dữ liệu Gas & Electric\n",
    "df = pd.read_csv('Gas&Electric.csv')"
   ]
  },
  {
   "cell_type": "code",
   "execution_count": 3,
   "id": "bddefc6c-cbe3-4c60-8b7c-6fc86d68abc3",
   "metadata": {},
   "outputs": [
    {
     "data": {
      "text/html": [
       "<table class=\"simpletable\">\n",
       "<caption>SARIMAX Results</caption>\n",
       "<tr>\n",
       "  <th>Dep. Variable:</th>        <td>Gas Use</td>     <th>  No. Observations:  </th>    <td>24</td>   \n",
       "</tr>\n",
       "<tr>\n",
       "  <th>Model:</th>            <td>ARIMA(1, 0, 1)</td>  <th>  Log Likelihood     </th> <td>-125.059</td>\n",
       "</tr>\n",
       "<tr>\n",
       "  <th>Date:</th>            <td>Sat, 04 May 2024</td> <th>  AIC                </th>  <td>258.118</td>\n",
       "</tr>\n",
       "<tr>\n",
       "  <th>Time:</th>                <td>20:16:24</td>     <th>  BIC                </th>  <td>262.830</td>\n",
       "</tr>\n",
       "<tr>\n",
       "  <th>Sample:</th>                  <td>0</td>        <th>  HQIC               </th>  <td>259.368</td>\n",
       "</tr>\n",
       "<tr>\n",
       "  <th></th>                       <td> - 24</td>      <th>                     </th>     <td> </td>   \n",
       "</tr>\n",
       "<tr>\n",
       "  <th>Covariance Type:</th>        <td>opg</td>       <th>                     </th>     <td> </td>   \n",
       "</tr>\n",
       "</table>\n",
       "<table class=\"simpletable\">\n",
       "<tr>\n",
       "     <td></td>       <th>coef</th>     <th>std err</th>      <th>z</th>      <th>P>|z|</th>  <th>[0.025</th>    <th>0.975]</th>  \n",
       "</tr>\n",
       "<tr>\n",
       "  <th>const</th>  <td>  129.6824</td> <td>   41.538</td> <td>    3.122</td> <td> 0.002</td> <td>   48.270</td> <td>  211.095</td>\n",
       "</tr>\n",
       "<tr>\n",
       "  <th>ar.L1</th>  <td>    0.6977</td> <td>    0.264</td> <td>    2.647</td> <td> 0.008</td> <td>    0.181</td> <td>    1.214</td>\n",
       "</tr>\n",
       "<tr>\n",
       "  <th>ma.L1</th>  <td>    0.5907</td> <td>    0.287</td> <td>    2.061</td> <td> 0.039</td> <td>    0.029</td> <td>    1.152</td>\n",
       "</tr>\n",
       "<tr>\n",
       "  <th>sigma2</th> <td> 1825.1913</td> <td>  611.504</td> <td>    2.985</td> <td> 0.003</td> <td>  626.665</td> <td> 3023.717</td>\n",
       "</tr>\n",
       "</table>\n",
       "<table class=\"simpletable\">\n",
       "<tr>\n",
       "  <th>Ljung-Box (L1) (Q):</th>     <td>0.25</td> <th>  Jarque-Bera (JB):  </th> <td>0.00</td>\n",
       "</tr>\n",
       "<tr>\n",
       "  <th>Prob(Q):</th>                <td>0.62</td> <th>  Prob(JB):          </th> <td>1.00</td>\n",
       "</tr>\n",
       "<tr>\n",
       "  <th>Heteroskedasticity (H):</th> <td>0.67</td> <th>  Skew:              </th> <td>0.00</td>\n",
       "</tr>\n",
       "<tr>\n",
       "  <th>Prob(H) (two-sided):</th>    <td>0.59</td> <th>  Kurtosis:          </th> <td>2.94</td>\n",
       "</tr>\n",
       "</table><br/><br/>Warnings:<br/>[1] Covariance matrix calculated using the outer product of gradients (complex-step)."
      ],
      "text/latex": [
       "\\begin{center}\n",
       "\\begin{tabular}{lclc}\n",
       "\\toprule\n",
       "\\textbf{Dep. Variable:}          &     Gas Use      & \\textbf{  No. Observations:  } &     24      \\\\\n",
       "\\textbf{Model:}                  &  ARIMA(1, 0, 1)  & \\textbf{  Log Likelihood     } &  -125.059   \\\\\n",
       "\\textbf{Date:}                   & Sat, 04 May 2024 & \\textbf{  AIC                } &  258.118    \\\\\n",
       "\\textbf{Time:}                   &     20:16:24     & \\textbf{  BIC                } &  262.830    \\\\\n",
       "\\textbf{Sample:}                 &        0         & \\textbf{  HQIC               } &  259.368    \\\\\n",
       "\\textbf{}                        &       - 24       & \\textbf{                     } &             \\\\\n",
       "\\textbf{Covariance Type:}        &       opg        & \\textbf{                     } &             \\\\\n",
       "\\bottomrule\n",
       "\\end{tabular}\n",
       "\\begin{tabular}{lcccccc}\n",
       "                & \\textbf{coef} & \\textbf{std err} & \\textbf{z} & \\textbf{P$> |$z$|$} & \\textbf{[0.025} & \\textbf{0.975]}  \\\\\n",
       "\\midrule\n",
       "\\textbf{const}  &     129.6824  &       41.538     &     3.122  &         0.002        &       48.270    &      211.095     \\\\\n",
       "\\textbf{ar.L1}  &       0.6977  &        0.264     &     2.647  &         0.008        &        0.181    &        1.214     \\\\\n",
       "\\textbf{ma.L1}  &       0.5907  &        0.287     &     2.061  &         0.039        &        0.029    &        1.152     \\\\\n",
       "\\textbf{sigma2} &    1825.1913  &      611.504     &     2.985  &         0.003        &      626.665    &     3023.717     \\\\\n",
       "\\bottomrule\n",
       "\\end{tabular}\n",
       "\\begin{tabular}{lclc}\n",
       "\\textbf{Ljung-Box (L1) (Q):}     & 0.25 & \\textbf{  Jarque-Bera (JB):  } & 0.00  \\\\\n",
       "\\textbf{Prob(Q):}                & 0.62 & \\textbf{  Prob(JB):          } & 1.00  \\\\\n",
       "\\textbf{Heteroskedasticity (H):} & 0.67 & \\textbf{  Skew:              } & 0.00  \\\\\n",
       "\\textbf{Prob(H) (two-sided):}    & 0.59 & \\textbf{  Kurtosis:          } & 2.94  \\\\\n",
       "\\bottomrule\n",
       "\\end{tabular}\n",
       "%\\caption{SARIMAX Results}\n",
       "\\end{center}\n",
       "\n",
       "Warnings: \\newline\n",
       " [1] Covariance matrix calculated using the outer product of gradients (complex-step)."
      ],
      "text/plain": [
       "<class 'statsmodels.iolib.summary.Summary'>\n",
       "\"\"\"\n",
       "                               SARIMAX Results                                \n",
       "==============================================================================\n",
       "Dep. Variable:                Gas Use   No. Observations:                   24\n",
       "Model:                 ARIMA(1, 0, 1)   Log Likelihood                -125.059\n",
       "Date:                Sat, 04 May 2024   AIC                            258.118\n",
       "Time:                        20:16:24   BIC                            262.830\n",
       "Sample:                             0   HQIC                           259.368\n",
       "                                 - 24                                         \n",
       "Covariance Type:                  opg                                         \n",
       "==============================================================================\n",
       "                 coef    std err          z      P>|z|      [0.025      0.975]\n",
       "------------------------------------------------------------------------------\n",
       "const        129.6824     41.538      3.122      0.002      48.270     211.095\n",
       "ar.L1          0.6977      0.264      2.647      0.008       0.181       1.214\n",
       "ma.L1          0.5907      0.287      2.061      0.039       0.029       1.152\n",
       "sigma2      1825.1913    611.504      2.985      0.003     626.665    3023.717\n",
       "===================================================================================\n",
       "Ljung-Box (L1) (Q):                   0.25   Jarque-Bera (JB):                 0.00\n",
       "Prob(Q):                              0.62   Prob(JB):                         1.00\n",
       "Heteroskedasticity (H):               0.67   Skew:                             0.00\n",
       "Prob(H) (two-sided):                  0.59   Kurtosis:                         2.94\n",
       "===================================================================================\n",
       "\n",
       "Warnings:\n",
       "[1] Covariance matrix calculated using the outer product of gradients (complex-step).\n",
       "\"\"\""
      ]
     },
     "execution_count": 3,
     "metadata": {},
     "output_type": "execute_result"
    }
   ],
   "source": [
    "from statsmodels.tsa.arima.model import ARIMA\n",
    "model = ARIMA(df[\"Gas Use\"], order = (1,0,1))\n",
    "model = model.fit()\n",
    "model.summary()"
   ]
  },
  {
   "cell_type": "code",
   "execution_count": 5,
   "id": "d37bfcb8-51ea-4a8f-97b0-cf37227745da",
   "metadata": {},
   "outputs": [],
   "source": [
    "# Quá trình predict \n",
    "x_actual = np.array(df['Gas Use']).reshape(-1, 1) #Lấy chỉ mục Index\n",
    "y_actual = np.array(df['Gas Use']) #lấy dữ liệu Electric Use\n",
    "\n",
    "y_pred = model.predict(n_periods=len(x_actual))"
   ]
  },
  {
   "cell_type": "code",
   "execution_count": 6,
   "id": "f11ee763-63d7-4144-b031-781c65fd1ea5",
   "metadata": {},
   "outputs": [
    {
     "name": "stdout",
     "output_type": "stream",
     "text": [
      "Testing MAPE: 49.63023091687238\n",
      "Testing MAE: 34.81700190636186\n",
      "Testing MSE: 2250.386268378537\n",
      "Testing RMSE: 47.438236354006\n",
      "R-squared: 0.6864628434956108\n"
     ]
    }
   ],
   "source": [
    "# Tính MAPE - Mean Absolute Percentage Error - Tỷ lệ phần trăm sai số tuyệt đối trung bình\n",
    "test_mape = np.mean(np.abs(y_pred - y_actual)/np.abs(y_actual))*100\n",
    "print('Testing MAPE:', test_mape)\n",
    "\n",
    "# Tính MAE - Mean Absolute Error - Sai số trung bình tuyệt đối\n",
    "test_mae = np.mean(np.abs(y_pred - y_actual))\n",
    "print(\"Testing MAE:\", test_mae)\n",
    "\n",
    "# Tính MSE - Mean Squared Error - Sai số bình phương trung bình\n",
    "test_mse = np.mean((y_pred - y_actual)**2)\n",
    "print('Testing MSE:', test_mse)\n",
    "\n",
    "# Tính RMSE - Root Mean Squared Error - Sai số bình phương trung bình\n",
    "test_rmse = np.sqrt(np.mean((y_pred - y_actual)**2))\n",
    "print('Testing RMSE:', test_rmse)\n",
    "\n",
    "# Tính R-Squared - Coefficient Of Determination - Hệ số xác định\n",
    "r_squared = 1 - np.sum((y_actual - y_pred)**2) / np.sum((y_actual - np.mean(y_actual))**2)\n",
    "print(\"R-squared:\", r_squared)"
   ]
  },
  {
   "cell_type": "code",
   "execution_count": null,
   "id": "6f1e5198-6caa-4f08-a30f-aa622dc37fd2",
   "metadata": {},
   "outputs": [],
   "source": []
  }
 ],
 "metadata": {
  "kernelspec": {
   "display_name": "Python 3 (ipykernel)",
   "language": "python",
   "name": "python3"
  },
  "language_info": {
   "codemirror_mode": {
    "name": "ipython",
    "version": 3
   },
   "file_extension": ".py",
   "mimetype": "text/x-python",
   "name": "python",
   "nbconvert_exporter": "python",
   "pygments_lexer": "ipython3",
   "version": "3.11.5"
  }
 },
 "nbformat": 4,
 "nbformat_minor": 5
}
