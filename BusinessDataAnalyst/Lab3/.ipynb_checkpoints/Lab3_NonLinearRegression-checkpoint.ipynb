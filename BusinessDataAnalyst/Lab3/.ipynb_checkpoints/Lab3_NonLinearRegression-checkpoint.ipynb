{
 "cells": [
  {
   "cell_type": "code",
   "execution_count": 2,
   "id": "6ded81cc-641b-4ed9-8447-773b092f5787",
   "metadata": {},
   "outputs": [],
   "source": [
    "import pandas as pd\n",
    "import matplotlib.pyplot as plt\n",
    "import numpy as np\n",
    "from sklearn.linear_model import LinearRegression\n",
    "import statsmodels.api as sm"
   ]
  },
  {
   "cell_type": "markdown",
   "id": "1469cbc6-81b6-46a9-b6dc-9337215ff033",
   "metadata": {},
   "source": [
    "# Import dữ liệu"
   ]
  },
  {
   "cell_type": "code",
   "execution_count": 3,
   "id": "9f87e667-ce3a-4bfd-b3d6-69923b32888a",
   "metadata": {},
   "outputs": [
    {
     "data": {
      "text/html": [
       "<div>\n",
       "<style scoped>\n",
       "    .dataframe tbody tr th:only-of-type {\n",
       "        vertical-align: middle;\n",
       "    }\n",
       "\n",
       "    .dataframe tbody tr th {\n",
       "        vertical-align: top;\n",
       "    }\n",
       "\n",
       "    .dataframe thead th {\n",
       "        text-align: right;\n",
       "    }\n",
       "</style>\n",
       "<table border=\"1\" class=\"dataframe\">\n",
       "  <thead>\n",
       "    <tr style=\"text-align: right;\">\n",
       "      <th></th>\n",
       "      <th>AQI index</th>\n",
       "      <th>Dominent pollutant</th>\n",
       "      <th>PM10</th>\n",
       "      <th>PM2.5</th>\n",
       "    </tr>\n",
       "  </thead>\n",
       "  <tbody>\n",
       "    <tr>\n",
       "      <th>0</th>\n",
       "      <td>36</td>\n",
       "      <td>pm25</td>\n",
       "      <td>29</td>\n",
       "      <td>36.0</td>\n",
       "    </tr>\n",
       "    <tr>\n",
       "      <th>1</th>\n",
       "      <td>68</td>\n",
       "      <td>pm25</td>\n",
       "      <td>52</td>\n",
       "      <td>68.0</td>\n",
       "    </tr>\n",
       "    <tr>\n",
       "      <th>2</th>\n",
       "      <td>217</td>\n",
       "      <td>pm25</td>\n",
       "      <td>194</td>\n",
       "      <td>217.0</td>\n",
       "    </tr>\n",
       "    <tr>\n",
       "      <th>3</th>\n",
       "      <td>195</td>\n",
       "      <td>pm25</td>\n",
       "      <td>119</td>\n",
       "      <td>195.0</td>\n",
       "    </tr>\n",
       "    <tr>\n",
       "      <th>4</th>\n",
       "      <td>168</td>\n",
       "      <td>pm25</td>\n",
       "      <td>65</td>\n",
       "      <td>168.0</td>\n",
       "    </tr>\n",
       "    <tr>\n",
       "      <th>...</th>\n",
       "      <td>...</td>\n",
       "      <td>...</td>\n",
       "      <td>...</td>\n",
       "      <td>...</td>\n",
       "    </tr>\n",
       "    <tr>\n",
       "      <th>1749</th>\n",
       "      <td>59</td>\n",
       "      <td>pm25</td>\n",
       "      <td>33</td>\n",
       "      <td>59.0</td>\n",
       "    </tr>\n",
       "    <tr>\n",
       "      <th>1750</th>\n",
       "      <td>168</td>\n",
       "      <td>pm25</td>\n",
       "      <td>126</td>\n",
       "      <td>168.0</td>\n",
       "    </tr>\n",
       "    <tr>\n",
       "      <th>1751</th>\n",
       "      <td>162</td>\n",
       "      <td>pm25</td>\n",
       "      <td>108</td>\n",
       "      <td>162.0</td>\n",
       "    </tr>\n",
       "    <tr>\n",
       "      <th>1752</th>\n",
       "      <td>149</td>\n",
       "      <td>pm25</td>\n",
       "      <td>76</td>\n",
       "      <td>149.0</td>\n",
       "    </tr>\n",
       "    <tr>\n",
       "      <th>1753</th>\n",
       "      <td>114</td>\n",
       "      <td>pm10</td>\n",
       "      <td>114</td>\n",
       "      <td>77.0</td>\n",
       "    </tr>\n",
       "  </tbody>\n",
       "</table>\n",
       "<p>1754 rows × 4 columns</p>\n",
       "</div>"
      ],
      "text/plain": [
       "      AQI index Dominent pollutant  PM10  PM2.5\n",
       "0            36               pm25    29   36.0\n",
       "1            68               pm25    52   68.0\n",
       "2           217               pm25   194  217.0\n",
       "3           195               pm25   119  195.0\n",
       "4           168               pm25    65  168.0\n",
       "...         ...                ...   ...    ...\n",
       "1749         59               pm25    33   59.0\n",
       "1750        168               pm25   126  168.0\n",
       "1751        162               pm25   108  162.0\n",
       "1752        149               pm25    76  149.0\n",
       "1753        114               pm10   114   77.0\n",
       "\n",
       "[1754 rows x 4 columns]"
      ]
     },
     "execution_count": 3,
     "metadata": {},
     "output_type": "execute_result"
    }
   ],
   "source": [
    "data = pd.read_csv('air_condition_2021.csv')\n",
    "data = data[['AQI index', 'Dominent pollutant', 'PM10', 'PM2.5']]\n",
    "data"
   ]
  },
  {
   "cell_type": "markdown",
   "id": "f1642d5c-38ac-43ab-b5c6-57055b352f0d",
   "metadata": {},
   "source": [
    "## Tính giá trị các hàm log cho các biến độc lập PM10 và PM2.5"
   ]
  },
  {
   "cell_type": "code",
   "execution_count": 4,
   "id": "f1920381-1f05-44ef-a6a7-288c11321d65",
   "metadata": {},
   "outputs": [
    {
     "data": {
      "text/html": [
       "<div>\n",
       "<style scoped>\n",
       "    .dataframe tbody tr th:only-of-type {\n",
       "        vertical-align: middle;\n",
       "    }\n",
       "\n",
       "    .dataframe tbody tr th {\n",
       "        vertical-align: top;\n",
       "    }\n",
       "\n",
       "    .dataframe thead th {\n",
       "        text-align: right;\n",
       "    }\n",
       "</style>\n",
       "<table border=\"1\" class=\"dataframe\">\n",
       "  <thead>\n",
       "    <tr style=\"text-align: right;\">\n",
       "      <th></th>\n",
       "      <th>AQI index</th>\n",
       "      <th>Dominent pollutant</th>\n",
       "      <th>PM10</th>\n",
       "      <th>PM2.5</th>\n",
       "      <th>log10(1/PM10)</th>\n",
       "      <th>log10(1/PM2.5)</th>\n",
       "    </tr>\n",
       "  </thead>\n",
       "  <tbody>\n",
       "    <tr>\n",
       "      <th>0</th>\n",
       "      <td>36</td>\n",
       "      <td>pm25</td>\n",
       "      <td>29</td>\n",
       "      <td>36.0</td>\n",
       "      <td>-1.462398</td>\n",
       "      <td>-1.556303</td>\n",
       "    </tr>\n",
       "    <tr>\n",
       "      <th>1</th>\n",
       "      <td>68</td>\n",
       "      <td>pm25</td>\n",
       "      <td>52</td>\n",
       "      <td>68.0</td>\n",
       "      <td>-1.716003</td>\n",
       "      <td>-1.832509</td>\n",
       "    </tr>\n",
       "    <tr>\n",
       "      <th>2</th>\n",
       "      <td>217</td>\n",
       "      <td>pm25</td>\n",
       "      <td>194</td>\n",
       "      <td>217.0</td>\n",
       "      <td>-2.287802</td>\n",
       "      <td>-2.336460</td>\n",
       "    </tr>\n",
       "    <tr>\n",
       "      <th>3</th>\n",
       "      <td>195</td>\n",
       "      <td>pm25</td>\n",
       "      <td>119</td>\n",
       "      <td>195.0</td>\n",
       "      <td>-2.075547</td>\n",
       "      <td>-2.290035</td>\n",
       "    </tr>\n",
       "    <tr>\n",
       "      <th>4</th>\n",
       "      <td>168</td>\n",
       "      <td>pm25</td>\n",
       "      <td>65</td>\n",
       "      <td>168.0</td>\n",
       "      <td>-1.812913</td>\n",
       "      <td>-2.225309</td>\n",
       "    </tr>\n",
       "    <tr>\n",
       "      <th>...</th>\n",
       "      <td>...</td>\n",
       "      <td>...</td>\n",
       "      <td>...</td>\n",
       "      <td>...</td>\n",
       "      <td>...</td>\n",
       "      <td>...</td>\n",
       "    </tr>\n",
       "    <tr>\n",
       "      <th>1749</th>\n",
       "      <td>59</td>\n",
       "      <td>pm25</td>\n",
       "      <td>33</td>\n",
       "      <td>59.0</td>\n",
       "      <td>-1.518514</td>\n",
       "      <td>-1.770852</td>\n",
       "    </tr>\n",
       "    <tr>\n",
       "      <th>1750</th>\n",
       "      <td>168</td>\n",
       "      <td>pm25</td>\n",
       "      <td>126</td>\n",
       "      <td>168.0</td>\n",
       "      <td>-2.100371</td>\n",
       "      <td>-2.225309</td>\n",
       "    </tr>\n",
       "    <tr>\n",
       "      <th>1751</th>\n",
       "      <td>162</td>\n",
       "      <td>pm25</td>\n",
       "      <td>108</td>\n",
       "      <td>162.0</td>\n",
       "      <td>-2.033424</td>\n",
       "      <td>-2.209515</td>\n",
       "    </tr>\n",
       "    <tr>\n",
       "      <th>1752</th>\n",
       "      <td>149</td>\n",
       "      <td>pm25</td>\n",
       "      <td>76</td>\n",
       "      <td>149.0</td>\n",
       "      <td>-1.880814</td>\n",
       "      <td>-2.173186</td>\n",
       "    </tr>\n",
       "    <tr>\n",
       "      <th>1753</th>\n",
       "      <td>114</td>\n",
       "      <td>pm10</td>\n",
       "      <td>114</td>\n",
       "      <td>77.0</td>\n",
       "      <td>-2.056905</td>\n",
       "      <td>-1.886491</td>\n",
       "    </tr>\n",
       "  </tbody>\n",
       "</table>\n",
       "<p>1754 rows × 6 columns</p>\n",
       "</div>"
      ],
      "text/plain": [
       "      AQI index Dominent pollutant  PM10  PM2.5  log10(1/PM10)  log10(1/PM2.5)\n",
       "0            36               pm25    29   36.0      -1.462398       -1.556303\n",
       "1            68               pm25    52   68.0      -1.716003       -1.832509\n",
       "2           217               pm25   194  217.0      -2.287802       -2.336460\n",
       "3           195               pm25   119  195.0      -2.075547       -2.290035\n",
       "4           168               pm25    65  168.0      -1.812913       -2.225309\n",
       "...         ...                ...   ...    ...            ...             ...\n",
       "1749         59               pm25    33   59.0      -1.518514       -1.770852\n",
       "1750        168               pm25   126  168.0      -2.100371       -2.225309\n",
       "1751        162               pm25   108  162.0      -2.033424       -2.209515\n",
       "1752        149               pm25    76  149.0      -1.880814       -2.173186\n",
       "1753        114               pm10   114   77.0      -2.056905       -1.886491\n",
       "\n",
       "[1754 rows x 6 columns]"
      ]
     },
     "execution_count": 4,
     "metadata": {},
     "output_type": "execute_result"
    }
   ],
   "source": [
    "data['log10(1/PM10)'] = np.log10(1/data['PM10'])\n",
    "data['log10(1/PM2.5)'] = np.log10(1/data['PM2.5'])\n",
    "data"
   ]
  },
  {
   "cell_type": "markdown",
   "id": "b8824394-94d6-403b-88de-8b5d2d8439c4",
   "metadata": {},
   "source": [
    "# Lấy ra giá trị X tương ứng với log10(1/PM10) và log10(1/PM2.5) - y tương ứng với AQI index"
   ]
  },
  {
   "cell_type": "code",
   "execution_count": 6,
   "id": "e8019ef4-705e-4105-bb05-77e6550b128f",
   "metadata": {},
   "outputs": [],
   "source": [
    "X, y = np.array(data[['log10(1/PM10)', 'log10(1/PM2.5)']]).reshape((-1, 2)), np.array(data[['AQI index']]).reshape((-1, 1))"
   ]
  },
  {
   "cell_type": "code",
   "execution_count": 7,
   "id": "85146f31-7d4a-403d-a91a-37db09d836b8",
   "metadata": {},
   "outputs": [
    {
     "data": {
      "text/plain": [
       "array([[-1.462398  , -1.5563025 ],\n",
       "       [-1.71600334, -1.83250891],\n",
       "       [-2.28780173, -2.33645973],\n",
       "       ...,\n",
       "       [-2.03342376, -2.20951501],\n",
       "       [-1.88081359, -2.17318627],\n",
       "       [-2.05690485, -1.88649073]])"
      ]
     },
     "execution_count": 7,
     "metadata": {},
     "output_type": "execute_result"
    }
   ],
   "source": [
    "X"
   ]
  },
  {
   "cell_type": "code",
   "execution_count": 8,
   "id": "f57d3897-c151-4dde-a67f-75d1b97b652e",
   "metadata": {
    "scrolled": true
   },
   "outputs": [
    {
     "data": {
      "text/plain": [
       "array([[ 36],\n",
       "       [ 68],\n",
       "       [217],\n",
       "       ...,\n",
       "       [162],\n",
       "       [149],\n",
       "       [114]], dtype=int64)"
      ]
     },
     "execution_count": 8,
     "metadata": {},
     "output_type": "execute_result"
    }
   ],
   "source": [
    "y"
   ]
  },
  {
   "cell_type": "markdown",
   "id": "7d9b95c6-8bb2-4c06-819d-5f470224f608",
   "metadata": {},
   "source": [
    "# Sử dụng công thức Coefficient = (XT * X)-1 * XT * Y"
   ]
  },
  {
   "cell_type": "code",
   "execution_count": 22,
   "id": "0ffcd3e5-8028-4253-a745-6d611daa3688",
   "metadata": {},
   "outputs": [],
   "source": [
    "vector = np.ones((len(X), 1))\n",
    "X_1 = np.concatenate((X, vector), axis=1)\n",
    "xT = X_1.transpose()\n",
    "xTx = np.dot(xT, X_1)\n",
    "xTx_inv = np.linalg.inv(xTx)\n",
    "xTx_inv_xT = np.dot(xTx_inv, xT)\n",
    "final = np.dot(xTx_inv_xT, y)"
   ]
  },
  {
   "cell_type": "code",
   "execution_count": 23,
   "id": "a71bbadb-7825-4dc2-b79e-e8dc25c01b6e",
   "metadata": {},
   "outputs": [
    {
     "data": {
      "text/plain": [
       "array([[-12.67694445],\n",
       "       [-64.81510079],\n",
       "       [-59.70362947]])"
      ]
     },
     "execution_count": 23,
     "metadata": {},
     "output_type": "execute_result"
    }
   ],
   "source": [
    "final"
   ]
  },
  {
   "cell_type": "markdown",
   "id": "e90b25d0-4244-4d19-9dba-8d25985fd19b",
   "metadata": {},
   "source": [
    "# Tạo mô hình hồi quy tuyến tính từ thư viện sklearn"
   ]
  },
  {
   "cell_type": "code",
   "execution_count": 9,
   "id": "c93258d0-7541-463d-8b72-0d3ef50848cd",
   "metadata": {},
   "outputs": [
    {
     "data": {
      "text/html": [
       "<style>#sk-container-id-1 {color: black;background-color: white;}#sk-container-id-1 pre{padding: 0;}#sk-container-id-1 div.sk-toggleable {background-color: white;}#sk-container-id-1 label.sk-toggleable__label {cursor: pointer;display: block;width: 100%;margin-bottom: 0;padding: 0.3em;box-sizing: border-box;text-align: center;}#sk-container-id-1 label.sk-toggleable__label-arrow:before {content: \"▸\";float: left;margin-right: 0.25em;color: #696969;}#sk-container-id-1 label.sk-toggleable__label-arrow:hover:before {color: black;}#sk-container-id-1 div.sk-estimator:hover label.sk-toggleable__label-arrow:before {color: black;}#sk-container-id-1 div.sk-toggleable__content {max-height: 0;max-width: 0;overflow: hidden;text-align: left;background-color: #f0f8ff;}#sk-container-id-1 div.sk-toggleable__content pre {margin: 0.2em;color: black;border-radius: 0.25em;background-color: #f0f8ff;}#sk-container-id-1 input.sk-toggleable__control:checked~div.sk-toggleable__content {max-height: 200px;max-width: 100%;overflow: auto;}#sk-container-id-1 input.sk-toggleable__control:checked~label.sk-toggleable__label-arrow:before {content: \"▾\";}#sk-container-id-1 div.sk-estimator input.sk-toggleable__control:checked~label.sk-toggleable__label {background-color: #d4ebff;}#sk-container-id-1 div.sk-label input.sk-toggleable__control:checked~label.sk-toggleable__label {background-color: #d4ebff;}#sk-container-id-1 input.sk-hidden--visually {border: 0;clip: rect(1px 1px 1px 1px);clip: rect(1px, 1px, 1px, 1px);height: 1px;margin: -1px;overflow: hidden;padding: 0;position: absolute;width: 1px;}#sk-container-id-1 div.sk-estimator {font-family: monospace;background-color: #f0f8ff;border: 1px dotted black;border-radius: 0.25em;box-sizing: border-box;margin-bottom: 0.5em;}#sk-container-id-1 div.sk-estimator:hover {background-color: #d4ebff;}#sk-container-id-1 div.sk-parallel-item::after {content: \"\";width: 100%;border-bottom: 1px solid gray;flex-grow: 1;}#sk-container-id-1 div.sk-label:hover label.sk-toggleable__label {background-color: #d4ebff;}#sk-container-id-1 div.sk-serial::before {content: \"\";position: absolute;border-left: 1px solid gray;box-sizing: border-box;top: 0;bottom: 0;left: 50%;z-index: 0;}#sk-container-id-1 div.sk-serial {display: flex;flex-direction: column;align-items: center;background-color: white;padding-right: 0.2em;padding-left: 0.2em;position: relative;}#sk-container-id-1 div.sk-item {position: relative;z-index: 1;}#sk-container-id-1 div.sk-parallel {display: flex;align-items: stretch;justify-content: center;background-color: white;position: relative;}#sk-container-id-1 div.sk-item::before, #sk-container-id-1 div.sk-parallel-item::before {content: \"\";position: absolute;border-left: 1px solid gray;box-sizing: border-box;top: 0;bottom: 0;left: 50%;z-index: -1;}#sk-container-id-1 div.sk-parallel-item {display: flex;flex-direction: column;z-index: 1;position: relative;background-color: white;}#sk-container-id-1 div.sk-parallel-item:first-child::after {align-self: flex-end;width: 50%;}#sk-container-id-1 div.sk-parallel-item:last-child::after {align-self: flex-start;width: 50%;}#sk-container-id-1 div.sk-parallel-item:only-child::after {width: 0;}#sk-container-id-1 div.sk-dashed-wrapped {border: 1px dashed gray;margin: 0 0.4em 0.5em 0.4em;box-sizing: border-box;padding-bottom: 0.4em;background-color: white;}#sk-container-id-1 div.sk-label label {font-family: monospace;font-weight: bold;display: inline-block;line-height: 1.2em;}#sk-container-id-1 div.sk-label-container {text-align: center;}#sk-container-id-1 div.sk-container {/* jupyter's `normalize.less` sets `[hidden] { display: none; }` but bootstrap.min.css set `[hidden] { display: none !important; }` so we also need the `!important` here to be able to override the default hidden behavior on the sphinx rendered scikit-learn.org. See: https://github.com/scikit-learn/scikit-learn/issues/21755 */display: inline-block !important;position: relative;}#sk-container-id-1 div.sk-text-repr-fallback {display: none;}</style><div id=\"sk-container-id-1\" class=\"sk-top-container\"><div class=\"sk-text-repr-fallback\"><pre>LinearRegression()</pre><b>In a Jupyter environment, please rerun this cell to show the HTML representation or trust the notebook. <br />On GitHub, the HTML representation is unable to render, please try loading this page with nbviewer.org.</b></div><div class=\"sk-container\" hidden><div class=\"sk-item\"><div class=\"sk-estimator sk-toggleable\"><input class=\"sk-toggleable__control sk-hidden--visually\" id=\"sk-estimator-id-1\" type=\"checkbox\" checked><label for=\"sk-estimator-id-1\" class=\"sk-toggleable__label sk-toggleable__label-arrow\">LinearRegression</label><div class=\"sk-toggleable__content\"><pre>LinearRegression()</pre></div></div></div></div></div>"
      ],
      "text/plain": [
       "LinearRegression()"
      ]
     },
     "execution_count": 9,
     "metadata": {},
     "output_type": "execute_result"
    }
   ],
   "source": [
    "model = LinearRegression()\n",
    "model.fit(X, y)"
   ]
  },
  {
   "cell_type": "markdown",
   "id": "58d54a69-1863-428b-a385-a1199d84f5db",
   "metadata": {},
   "source": [
    "# Tính toán Intercept, Coefficient và R Square để đánh giá mô hình hồi quy"
   ]
  },
  {
   "cell_type": "code",
   "execution_count": 10,
   "id": "b9eda78f-4f21-4f63-9496-75400f65efd7",
   "metadata": {},
   "outputs": [
    {
     "name": "stdout",
     "output_type": "stream",
     "text": [
      "Intercept: [-59.70362947]\n",
      "Coefficient: [[-12.67694445 -64.81510079]]\n",
      "R Square: 0.6322689773330288\n"
     ]
    }
   ],
   "source": [
    "print(f\"Intercept: {model.intercept_}\")\n",
    "print(f\"Coefficient: {model.coef_}\")\n",
    "print(f\"R Square: {model.score(X, y)}\")"
   ]
  }
 ],
 "metadata": {
  "kernelspec": {
   "display_name": "Python 3 (ipykernel)",
   "language": "python",
   "name": "python3"
  },
  "language_info": {
   "codemirror_mode": {
    "name": "ipython",
    "version": 3
   },
   "file_extension": ".py",
   "mimetype": "text/x-python",
   "name": "python",
   "nbconvert_exporter": "python",
   "pygments_lexer": "ipython3",
   "version": "3.11.5"
  }
 },
 "nbformat": 4,
 "nbformat_minor": 5
}
