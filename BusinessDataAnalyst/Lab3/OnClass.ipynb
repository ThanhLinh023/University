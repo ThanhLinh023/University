{
 "cells": [
  {
   "cell_type": "code",
   "execution_count": 12,
   "id": "1f10fdf5",
   "metadata": {},
   "outputs": [
    {
     "name": "stdout",
     "output_type": "stream",
     "text": [
      "B0 = 146.4245, B1 = 0.0292\n"
     ]
    }
   ],
   "source": [
    "import numpy as np\n",
    "from scipy.optimize import curve_fit\n",
    "\n",
    "def model_func(x, b0, b1):\n",
    "    return b0 * np.exp(-b1 * x)\n",
    "\n",
    "Y = np.array([147.8, 78.3, 44.7, 29.5, 15.2, 7.8, 3.2, 3.9])\n",
    "X = np.array([0, 20, 40, 60, 80, 100, 120, 140])\n",
    "\n",
    "ini_guess = (10, 0.1)\n",
    "\n",
    "params, covariance  = curve_fit(model_func, X, Y, p0=ini_guess)\n",
    "\n",
    "b0, b1 = params\n",
    "print(f'B0 = {b0:.4f}, B1 = {b1:.4f}')"
   ]
  },
  {
   "cell_type": "code",
   "execution_count": null,
   "id": "0bfcdb0c",
   "metadata": {},
   "outputs": [],
   "source": []
  }
 ],
 "metadata": {
  "kernelspec": {
   "display_name": "Python 3 (ipykernel)",
   "language": "python",
   "name": "python3"
  },
  "language_info": {
   "codemirror_mode": {
    "name": "ipython",
    "version": 3
   },
   "file_extension": ".py",
   "mimetype": "text/x-python",
   "name": "python",
   "nbconvert_exporter": "python",
   "pygments_lexer": "ipython3",
   "version": "3.11.5"
  }
 },
 "nbformat": 4,
 "nbformat_minor": 5
}
