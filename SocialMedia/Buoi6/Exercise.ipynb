{
 "cells": [
  {
   "cell_type": "code",
   "execution_count": 9,
   "metadata": {},
   "outputs": [],
   "source": [
    "import networkx as nx\n",
    "import matplotlib.pyplot as plt\n",
    "from networkx.algorithms.community import girvan_newman"
   ]
  },
  {
   "cell_type": "code",
   "execution_count": 10,
   "metadata": {},
   "outputs": [],
   "source": [
    "DG = nx.Graph()\n",
    "DG.add_edges_from([(1,2), (1,5), (2,3),(2,5),(3,4),(4,5), (4, 6)])"
   ]
  },
  {
   "cell_type": "code",
   "execution_count": 11,
   "metadata": {},
   "outputs": [
    {
     "name": "stderr",
     "output_type": "stream",
     "text": [
      "c:\\Users\\Hii\\AppData\\Local\\Programs\\Python\\Python312\\Lib\\site-packages\\networkx\\drawing\\nx_pylab.py:450: UserWarning: No data for colormapping provided via 'c'. Parameters 'cmap' will be ignored\n",
      "  node_collection = ax.scatter(\n"
     ]
    },
    {
     "data": {
      "image/png": "[encoded data removed]",
      "text/plain": [
       "<Figure size 640x480 with 1 Axes>"
      ]
     },
     "metadata": {},
     "output_type": "display_data"
    }
   ],
   "source": [
    "plt.axis('off')\n",
    "nx.draw_networkx(DG, pos=nx.spring_layout(DG, seed=0),node_size=600,cmap='coolwarm',font_size='14',font_color='white')"
   ]
  },
  {
   "cell_type": "code",
   "execution_count": 12,
   "metadata": {},
   "outputs": [],
   "source": [
    "def edge_betweenness_community_detection(graph):\n",
    "    community_generator = girvan_newman(graph)\n",
    "\n",
    "    top_level_communities = next(community_generator)\n",
    "    sorted_communities = [sorted(list(c)) for c in top_level_communities]\n",
    "    return sorted_communities\n",
    "def compute_edge_betweenness(graph):\n",
    "    betweenness = nx.edge_betweenness_centrality(graph)\n",
    "    return betweenness"
   ]
  },
  {
   "cell_type": "code",
   "execution_count": 13,
   "metadata": {},
   "outputs": [
    {
     "name": "stdout",
     "output_type": "stream",
     "text": [
      "Edge (0, 1): Betweenness 0.0253\n",
      "Edge (0, 2): Betweenness 0.0778\n",
      "Edge (0, 3): Betweenness 0.0205\n",
      "Edge (0, 4): Betweenness 0.0523\n",
      "Edge (0, 5): Betweenness 0.0781\n",
      "Edge (0, 6): Betweenness 0.0781\n",
      "Edge (0, 7): Betweenness 0.0228\n",
      "Edge (0, 8): Betweenness 0.0742\n",
      "Edge (0, 10): Betweenness 0.0523\n",
      "Edge (0, 11): Betweenness 0.0588\n",
      "Edge (0, 12): Betweenness 0.0465\n",
      "Edge (0, 13): Betweenness 0.0424\n",
      "Edge (0, 17): Betweenness 0.0401\n",
      "Edge (0, 19): Betweenness 0.0459\n",
      "Edge (0, 21): Betweenness 0.0401\n",
      "Edge (0, 31): Betweenness 0.1273\n",
      "Edge (1, 2): Betweenness 0.0232\n",
      "Edge (1, 3): Betweenness 0.0077\n",
      "Edge (1, 7): Betweenness 0.0074\n",
      "Edge (1, 13): Betweenness 0.0124\n",
      "Edge (1, 17): Betweenness 0.0187\n",
      "Edge (1, 19): Betweenness 0.0146\n",
      "Edge (1, 21): Betweenness 0.0187\n",
      "Edge (1, 30): Betweenness 0.0323\n",
      "Edge (2, 3): Betweenness 0.0224\n",
      "Edge (2, 7): Betweenness 0.0252\n",
      "Edge (2, 8): Betweenness 0.0092\n",
      "Edge (2, 9): Betweenness 0.0308\n",
      "Edge (2, 13): Betweenness 0.0076\n",
      "Edge (2, 27): Betweenness 0.0412\n",
      "Edge (2, 28): Betweenness 0.0228\n",
      "Edge (2, 32): Betweenness 0.0690\n",
      "Edge (3, 7): Betweenness 0.0034\n",
      "Edge (3, 12): Betweenness 0.0123\n",
      "Edge (3, 13): Betweenness 0.0149\n",
      "Edge (4, 6): Betweenness 0.0048\n",
      "Edge (4, 10): Betweenness 0.0030\n",
      "Edge (5, 6): Betweenness 0.0030\n",
      "Edge (5, 10): Betweenness 0.0048\n",
      "Edge (5, 16): Betweenness 0.0294\n",
      "Edge (6, 16): Betweenness 0.0294\n",
      "Edge (8, 30): Betweenness 0.0098\n",
      "Edge (8, 32): Betweenness 0.0304\n",
      "Edge (8, 33): Betweenness 0.0404\n",
      "Edge (9, 33): Betweenness 0.0296\n",
      "Edge (13, 33): Betweenness 0.0678\n",
      "Edge (14, 32): Betweenness 0.0241\n",
      "Edge (14, 33): Betweenness 0.0347\n",
      "Edge (15, 32): Betweenness 0.0241\n",
      "Edge (15, 33): Betweenness 0.0347\n",
      "Edge (18, 32): Betweenness 0.0241\n",
      "Edge (18, 33): Betweenness 0.0347\n",
      "Edge (19, 33): Betweenness 0.0594\n",
      "Edge (20, 32): Betweenness 0.0241\n",
      "Edge (20, 33): Betweenness 0.0347\n",
      "Edge (22, 32): Betweenness 0.0241\n",
      "Edge (22, 33): Betweenness 0.0347\n",
      "Edge (23, 25): Betweenness 0.0198\n",
      "Edge (23, 27): Betweenness 0.0105\n",
      "Edge (23, 29): Betweenness 0.0067\n",
      "Edge (23, 32): Betweenness 0.0223\n",
      "Edge (23, 33): Betweenness 0.0327\n",
      "Edge (24, 25): Betweenness 0.0042\n",
      "Edge (24, 27): Betweenness 0.0187\n",
      "Edge (24, 31): Betweenness 0.0401\n",
      "Edge (25, 31): Betweenness 0.0421\n",
      "Edge (26, 29): Betweenness 0.0045\n",
      "Edge (26, 33): Betweenness 0.0543\n",
      "Edge (27, 33): Betweenness 0.0305\n",
      "Edge (28, 31): Betweenness 0.0149\n",
      "Edge (28, 33): Betweenness 0.0246\n",
      "Edge (29, 32): Betweenness 0.0233\n",
      "Edge (29, 33): Betweenness 0.0298\n",
      "Edge (30, 32): Betweenness 0.0171\n",
      "Edge (30, 33): Betweenness 0.0268\n",
      "Edge (31, 32): Betweenness 0.0414\n",
      "Edge (31, 33): Betweenness 0.0534\n",
      "Edge (32, 33): Betweenness 0.0082\n"
     ]
    }
   ],
   "source": [
    "G = nx.karate_club_graph()\n",
    "\n",
    "edge_betweenness = compute_edge_betweenness(G)\n",
    "for edge, betweenness in edge_betweenness.items():\n",
    "    print(f'Edge {edge}: Betweenness {betweenness:.4f}')"
   ]
  }
 ],
 "metadata": {
  "kernelspec": {
   "display_name": "Python 3",
   "language": "python",
   "name": "python3"
  },
  "language_info": {
   "codemirror_mode": {
    "name": "ipython",
    "version": 3
   },
   "file_extension": ".py",
   "mimetype": "text/x-python",
   "name": "python",
   "nbconvert_exporter": "python",
   "pygments_lexer": "ipython3",
   "version": "3.12.6"
  }
 },
 "nbformat": 4,
 "nbformat_minor": 2
}
